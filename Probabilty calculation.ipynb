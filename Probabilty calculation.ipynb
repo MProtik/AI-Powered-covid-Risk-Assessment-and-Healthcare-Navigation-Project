{
 "cells": [
  {
   "cell_type": "code",
   "execution_count": 1,
   "id": "31270b13",
   "metadata": {},
   "outputs": [],
   "source": [
    "import mysql.connector"
   ]
  },
  {
   "cell_type": "code",
   "execution_count": 2,
   "id": "4e5d871f",
   "metadata": {},
   "outputs": [
    {
     "name": "stdout",
     "output_type": "stream",
     "text": [
      "Connected successfully\n"
     ]
    }
   ],
   "source": [
    "try:\n",
    "    con = mysql.connector.connect(host=\"Protiks-MacBook-Air.local\", user=\"root\",password=\"password\", database = \"Covid_19_database\")\n",
    "except:\n",
    "    print(\"Connection Problem\")\n",
    "else:\n",
    "    cursor = con.cursor()\n",
    "    print(\"Connected successfully\")"
   ]
  },
  {
   "cell_type": "code",
   "execution_count": 7,
   "id": "49d5ae1c",
   "metadata": {},
   "outputs": [],
   "source": [
    "query = \"select * from `main database2`\""
   ]
  },
  {
   "cell_type": "code",
   "execution_count": 8,
   "id": "3df885be",
   "metadata": {},
   "outputs": [],
   "source": [
    "cursor.execute(query)"
   ]
  },
  {
   "cell_type": "code",
   "execution_count": 9,
   "id": "fe895dc4",
   "metadata": {},
   "outputs": [],
   "source": [
    "record = cursor.fetchall()"
   ]
  },
  {
   "cell_type": "code",
   "execution_count": 10,
   "id": "fe049bea",
   "metadata": {},
   "outputs": [
    {
     "data": {
      "text/plain": [
       "[('Bagerhat', 1649874, 1032, '', '0.06%', 0.06),\n",
       " ('Bandarban', 495252, 871, '', '0.18%', 0.18),\n",
       " ('Barguna', 1035596, 1008, '', '0.10%', 0.1),\n",
       " ('Barishal', 2634203, 4571, '', '0.17%', 0.17),\n",
       " ('Bhola', 1980452, 926, '', '0.05%', 0.05),\n",
       " ('Bogura', 3815192, 9240, '', '0.24%', 0.24),\n",
       " ('B. Baria', 3403786, 2714, '', '0.08%', 0.08),\n",
       " ('Chandpur', 2713247, 2600, '', '0.10%', 0.1),\n",
       " ('Chapainawabganj', 1875290, 811, '', '0.04%', 0.04),\n",
       " ('Chattogram', 9439076, 28112, '', '0.30%', 0.3),\n",
       " ('Chuadanga', 1262205, 1619, '', '0.13%', 0.13),\n",
       " (\"Cox's bazar\", 2906281, 5608, '', '0.19%', 0.19),\n",
       " ('Comilla', 6394875, 8803, '', '0.14%', 0.14),\n",
       " ('Dhaka', 15210851, 6179, '', '0.04%', 0.04),\n",
       " ('Dinajpur', 3392251, 4295, '', '0.13%', 0.13),\n",
       " ('Faridpur', 2232772, 7981, '', '0.36%', 0.36),\n",
       " ('Feni', 1697379, 2180, '', '0.13%', 0.13),\n",
       " ('Gaibandha', 2621756, 1403, '', '0.05%', 0.05),\n",
       " ('Gazipur', 5433538, 6694, '', '0.12%', 0.12),\n",
       " ('Gopalganj', 1336907, 2929, '', '0.22%', 0.22),\n",
       " ('Hobiganj', 2440151, 1934, '', '0.08%', 0.08),\n",
       " ('Joypurhat', 977150, 1250, '', '0.13%', 0.13),\n",
       " ('Jamalpur', 2583984, 1753, '', '0.07%', 0.07),\n",
       " ('Jashore', 3146317, 4542, '', '0.14%', 0.14),\n",
       " ('Jhalokathi', 677559, 804, '', '0.12%', 0.12),\n",
       " ('Jhenaidah', 2051607, 2245, '', '0.11%', 0.11),\n",
       " ('Khagrachari', 735116, 773, '', '0.11%', 0.11),\n",
       " ('Khulna', 2673002, 7027, '', '0.26%', 0.26),\n",
       " ('Kishoreganj', 3373219, 3341, '', '0.10%', 0.1),\n",
       " ('Kurigram', 2383268, 987, '', '0.04%', 0.04),\n",
       " ('Kushtia', 2198731, 3707, '', '0.17%', 0.17),\n",
       " ('Laksmipur', 1994930, 2283, '', '0.11%', 0.11),\n",
       " ('Lalmonirhat', 1461589, 942, '', '0.06%', 0.06),\n",
       " ('Madaripur', 1334811, 1599, '', '0.12%', 0.12),\n",
       " ('Magura', 1056683, 1032, '', '0.10%', 0.1),\n",
       " ('Manikganj', 1608372, 1713, '', '0.11%', 0.11),\n",
       " ('Meherpur', 721447, 739, '', '0.10%', 0.1),\n",
       " ('Moulvibazar', 2196601, 1854, '', '0.08%', 0.08),\n",
       " ('Munshigonj', 1677941, 4251, '', '0.25%', 0.25),\n",
       " ('Mymensingh', 6097814, 4278, '', '0.07%', 0.07),\n",
       " ('Naogaon', 2844921, 1499, '', '0.05%', 0.05),\n",
       " ('Narail', 806662, 1511, '', '0.19%', 0.19),\n",
       " ('Narayanganj', 4035461, 8290, '', '0.21%', 0.21),\n",
       " ('Narshingdi', 2667968, 2701, '', '0.10%', 0.1),\n",
       " ('Natore', 1900213, 1162, '', '0.06%', 0.06),\n",
       " ('Netrokona', 2403205, 817, '', '0.03%', 0.03),\n",
       " ('Nilphamari', 2141180, 1280, '', '0.06%', 0.06),\n",
       " ('Noakhali', 3732042, 5455, '', '0.15%', 0.15),\n",
       " ('Pabna', 2972654, 1544, '', '0.05%', 0.05),\n",
       " ('Panchagarh', 1207252, 753, '', '0.06%', 0.06),\n",
       " ('Patuakhali', 1770096, 1660, '', '0.09%', 0.09),\n",
       " ('Pirojpur', 1227915, 1144, '', '0.09%', 0.09),\n",
       " ('Rajbari', 1228267, 3352, '', '0.27%', 0.27),\n",
       " ('Rajshahi', 2978156, 5687, '', '0.19%', 0.19),\n",
       " ('Rangamati', 666627, 1098, '', '0.16%', 0.16),\n",
       " ('Rangpur', 3243247, 3803, '', '0.12%', 0.12),\n",
       " ('Satkhira', 2246691, 1147, '', '0.05%', 0.05),\n",
       " ('Shariatpur', 1336396, 1854, '', '0.14%', 0.14),\n",
       " ('Sherpur', 1552469, 542, '', '0.03%', 0.03),\n",
       " ('Sirajganj', 3430443, 2489, '', '0.07%', 0.07),\n",
       " ('Sunamganj', 2788358, 2495, '', '0.09%', 0.09),\n",
       " ('Sylhet', 3990003, 8837, '', '0.22%', 0.22),\n",
       " ('Tangail', 4168083, 3601, '', '0.09%', 0.09),\n",
       " ('Thakurgaon', 1569529, 1442, '', '0.09%', 0.09)]"
      ]
     },
     "execution_count": 10,
     "metadata": {},
     "output_type": "execute_result"
    }
   ],
   "source": [
    "record"
   ]
  },
  {
   "cell_type": "code",
   "execution_count": 1,
   "id": "54fa430b",
   "metadata": {},
   "outputs": [
    {
     "name": "stdout",
     "output_type": "stream",
     "text": [
      "Posterior probability of having COVID-19 for age group 20-30: 0.45\n",
      "Posterior probability of having COVID-19 for age group 30-40: 0.60\n",
      "Posterior probability of having COVID-19 for age group 40-50: 0.68\n"
     ]
    }
   ],
   "source": [
    "def bayesian_update(prior, likelihood, marginal_likelihood):\n",
    "    return (likelihood * prior) / marginal_likelihood\n",
    "\n",
    "def calculate_posterior(prior, likelihoods, marginal_likelihoods):\n",
    "    posterior = prior\n",
    "    for likelihood, marginal_likelihood in zip(likelihoods, marginal_likelihoods):\n",
    "        posterior = bayesian_update(posterior, likelihood, marginal_likelihood)\n",
    "    return posterior\n",
    "\n",
    "# Data for different age groups\n",
    "age_groups_data = {\n",
    "    \"20-30\": {\n",
    "        \"prior\": 0.03,\n",
    "        \"likelihoods\": [0.50, 0.60],  # Cough, Fatigue\n",
    "        \"marginal_likelihoods\": [0.10, 0.20]  # Cough, Fatigue\n",
    "    },\n",
    "    \"30-40\": {\n",
    "        \"prior\": 0.04,\n",
    "        \"likelihoods\": [0.50, 0.60],  # Cough, Fatigue\n",
    "        \"marginal_likelihoods\": [0.10, 0.20]  # Cough, Fatigue\n",
    "    },\n",
    "    \"40-50\": {\n",
    "        \"prior\": 0.05,\n",
    "        \"likelihoods\": [0.55, 0.65],  # Cough, Fatigue\n",
    "        \"marginal_likelihoods\": [0.12, 0.22]  # Cough, Fatigue\n",
    "    }\n",
    "}\n",
    "\n",
    "# Calculate posterior probabilities for each age group\n",
    "posterior_probabilities = {}\n",
    "for age_group, data in age_groups_data.items():\n",
    "    posterior = calculate_posterior(data[\"prior\"], data[\"likelihoods\"], data[\"marginal_likelihoods\"])\n",
    "    posterior_probabilities[age_group] = posterior\n",
    "\n",
    "# Print results\n",
    "for age_group, posterior in posterior_probabilities.items():\n",
    "    print(f\"Posterior probability of having COVID-19 for age group {age_group}: {posterior:.2f}\")\n",
    "\n"
   ]
  },
  {
   "cell_type": "code",
   "execution_count": 2,
   "id": "e8fb623b",
   "metadata": {},
   "outputs": [],
   "source": [
    "def bayesian_update(prior, likelihood, marginal_likelihood):\n",
    "    return (likelihood * prior) / marginal_likelihood"
   ]
  },
  {
   "cell_type": "code",
   "execution_count": 3,
   "id": "68a2debd",
   "metadata": {},
   "outputs": [],
   "source": [
    "def calculate_posterior(prior, likelihoods, marginal_likelihoods):\n",
    "    posterior = prior\n",
    "    for likelihood, marginal_likelihood in zip(likelihoods, marginal_likelihoods):\n",
    "        posterior = bayesian_update(posterior, likelihood, marginal_likelihood)\n",
    "    return posterior"
   ]
  },
  {
   "cell_type": "code",
   "execution_count": 5,
   "id": "10a55f61",
   "metadata": {},
   "outputs": [],
   "source": [
    "age_groups_data = {\n",
    "    \"20-30\": {\n",
    "        \"prior\": 0.03,\n",
    "        \"likelihoods\": [0.50, 0.60],  # Cough, Fatigue\n",
    "        \"marginal_likelihoods\": [0.10, 0.20]  # Cough, Fatigue\n",
    "    },\n",
    "    \"30-40\": {\n",
    "        \"prior\": 0.04,\n",
    "        \"likelihoods\": [0.50, 0.60],  # Cough, Fatigue\n",
    "        \"marginal_likelihoods\": [0.10, 0.20]  # Cough, Fatigue\n",
    "    },\n",
    "    \"40-50\": {\n",
    "        \"prior\": 0.05,\n",
    "        \"likelihoods\": [0.55, 0.65],  # Cough, Fatigue\n",
    "        \"marginal_likelihoods\": [0.12, 0.22]  # Cough, Fatigue\n",
    "    }}"
   ]
  },
  {
   "cell_type": "code",
   "execution_count": 6,
   "id": "b8a96ad8",
   "metadata": {},
   "outputs": [],
   "source": [
    "posterior_probabilities = {}\n",
    "for age_group, data in age_groups_data.items():\n",
    "    posterior = calculate_posterior(data[\"prior\"], data[\"likelihoods\"], data[\"marginal_likelihoods\"])\n",
    "    posterior_probabilities[age_group] = posterior"
   ]
  },
  {
   "cell_type": "code",
   "execution_count": 7,
   "id": "95d3a29d",
   "metadata": {},
   "outputs": [
    {
     "name": "stdout",
     "output_type": "stream",
     "text": [
      "Posterior probability of having COVID-19 for age group 20-30: 0.45\n",
      "Posterior probability of having COVID-19 for age group 30-40: 0.60\n",
      "Posterior probability of having COVID-19 for age group 40-50: 0.68\n"
     ]
    }
   ],
   "source": [
    "for age_group, posterior in posterior_probabilities.items():\n",
    "    print(f\"Posterior probability of having COVID-19 for age group {age_group}: {posterior:.2f}\")"
   ]
  },
  {
   "cell_type": "code",
   "execution_count": 14,
   "id": "cc649983",
   "metadata": {},
   "outputs": [],
   "source": []
  },
  {
   "cell_type": "code",
   "execution_count": 2,
   "id": "7f9994c3",
   "metadata": {},
   "outputs": [
    {
     "name": "stdout",
     "output_type": "stream",
     "text": [
      "Enter the city you live in: Dhaka\n",
      "Enter your age group (20-30, 30-40, 40-50): 20-30\n",
      "Posterior probability of having COVID-19 for age group 20-30 in Dhaka: 0.60\n"
     ]
    }
   ],
   "source": [
    "def bayesian_update(prior, likelihood, marginal_likelihood):\n",
    "    return (likelihood * prior) / marginal_likelihood\n",
    "\n",
    "def calculate_posterior(prior, likelihoods, marginal_likelihoods):\n",
    "    posterior = prior\n",
    "    for likelihood, marginal_likelihood in zip(likelihoods, marginal_likelihoods):\n",
    "        posterior = bayesian_update(posterior, likelihood, marginal_likelihood)\n",
    "    return posterior\n",
    "\n",
    "# City-specific COVID-19 prevalence rates\n",
    "city_data = {\n",
    "    \"Dhaka\": 0.04,\n",
    "    \"Chittagong\": 0.03,\n",
    "    \"Khulna\": 0.02,\n",
    "    \"Sylhet\": 0.05,\n",
    "    \"Rajshahi\": 0.03,\n",
    "    \"Barishal\": 0.01,\n",
    "    \"Mymensingh\": 0.02\n",
    "}\n",
    "\n",
    "# Data for different age groups\n",
    "age_groups_data = {\n",
    "    \"20-30\": {\n",
    "        \"likelihoods\": [0.50, 0.60],  # Cough, Fatigue\n",
    "        \"marginal_likelihoods\": [0.10, 0.20]  # Cough, Fatigue\n",
    "    },\n",
    "    \"30-40\": {\n",
    "        \"likelihoods\": [0.50, 0.60],  # Cough, Fatigue\n",
    "        \"marginal_likelihoods\": [0.10, 0.20]  # Cough, Fatigue\n",
    "    },\n",
    "    \"40-50\": {\n",
    "        \"likelihoods\": [0.55, 0.65],  # Cough, Fatigue\n",
    "        \"marginal_likelihoods\": [0.12, 0.22]  # Cough, Fatigue\n",
    "    }\n",
    "}\n",
    "\n",
    "def get_posterior_probability(city, age_group):\n",
    "    if city not in city_data:\n",
    "        raise ValueError(\"City not found in database.\")\n",
    "    \n",
    "    prior = city_data[city]\n",
    "    likelihoods = age_groups_data[age_group][\"likelihoods\"]\n",
    "    marginal_likelihoods = age_groups_data[age_group][\"marginal_likelihoods\"]\n",
    "    \n",
    "    return calculate_posterior(prior, likelihoods, marginal_likelihoods)\n",
    "\n",
    "# Ask for user input\n",
    "city = input(\"Enter the city you live in: \")\n",
    "age_group = input(\"Enter your age group (20-30, 30-40, 40-50): \")\n",
    "\n",
    "try:\n",
    "    posterior_probability = get_posterior_probability(city, age_group)\n",
    "    print(f\"Posterior probability of having COVID-19 for age group {age_group} in {city}: {posterior_probability:.2f}\")\n",
    "except ValueError as e:\n",
    "    print(e)\n"
   ]
  },
  {
   "cell_type": "code",
   "execution_count": 3,
   "id": "568dc291",
   "metadata": {},
   "outputs": [
    {
     "name": "stdout",
     "output_type": "stream",
     "text": [
      "Enter the city you live in: Dhaka\n",
      "Enter your age group (0-10, 10-20, 20-30, 30-40, 40-50, 50-60, 60-70, 70-80, 80+): 20-30\n",
      "Enter your symptoms (comma-separated): Sore throat, Fever or chills, Nausea or vomiting\n",
      "Posterior probability of having COVID-19 for age group 20-30 in Dhaka with symptoms ['Sore throat', 'Fever or chills', 'Nausea or vomiting']: 1.63\n"
     ]
    }
   ],
   "source": [
    "def bayesian_update(prior, likelihood, marginal_likelihood):\n",
    "    return (likelihood * prior) / marginal_likelihood\n",
    "\n",
    "def calculate_posterior(prior, likelihoods, marginal_likelihoods):\n",
    "    posterior = prior\n",
    "    for likelihood, marginal_likelihood in zip(likelihoods, marginal_likelihoods):\n",
    "        posterior = bayesian_update(posterior, likelihood, marginal_likelihood)\n",
    "    return posterior\n",
    "\n",
    "# City-specific COVID-19 prevalence rates (example, replace with actual data)\n",
    "city_data = {\n",
    "    \"Dhaka\": 0.04,\n",
    "    \"Chittagong\": 0.03,\n",
    "    \"Khulna\": 0.02,\n",
    "    \"Sylhet\": 0.05,\n",
    "    \"Rajshahi\": 0.03,\n",
    "    \"Barishal\": 0.01,\n",
    "    \"Mymensingh\": 0.02\n",
    "}\n",
    "\n",
    "# Symptoms likelihoods (example, replace with actual data)\n",
    "symptom_likelihoods = {\n",
    "    \"Fever or chills\": 0.70,\n",
    "    \"Cough\": 0.60,\n",
    "    \"Shortness of breath or difficulty breathing\": 0.55,\n",
    "    \"Fatigue\": 0.80,\n",
    "    \"Muscle or body aches\": 0.50,\n",
    "    \"Headache\": 0.40,\n",
    "    \"New loss of taste or smell\": 0.45,\n",
    "    \"Sore throat\": 0.35,\n",
    "    \"Congestion or runny nose\": 0.30,\n",
    "    \"Nausea or vomiting\": 0.25,\n",
    "    \"Diarrhea\": 0.20,\n",
    "    \"Trouble Breathing\": 0.60,\n",
    "    \"Persistent pain or pressure in the chest\": 0.55,\n",
    "    \"Joint pain\": 0.50,\n",
    "    \"Chest pain\": 0.55,\n",
    "    \"Difficulty concentrating\": 0.45,\n",
    "    \"Pale, gray, or blue-colored skin, lips, or nail beds, depending on skin tone\": 0.35\n",
    "}\n",
    "\n",
    "# Marginal likelihoods of symptoms in general population (example, replace with actual data)\n",
    "marginal_symptom_likelihoods = {\n",
    "    \"Fever or chills\": 0.15,\n",
    "    \"Cough\": 0.10,\n",
    "    \"Shortness of breath or difficulty breathing\": 0.05,\n",
    "    \"Fatigue\": 0.20,\n",
    "    \"Muscle or body aches\": 0.10,\n",
    "    \"Headache\": 0.10,\n",
    "    \"New loss of taste or smell\": 0.05,\n",
    "    \"Sore throat\": 0.10,\n",
    "    \"Congestion or runny nose\": 0.15,\n",
    "    \"Nausea or vomiting\": 0.10,\n",
    "    \"Diarrhea\": 0.05,\n",
    "    \"Trouble Breathing\": 0.05,\n",
    "    \"Persistent pain or pressure in the chest\": 0.05,\n",
    "    \"Joint pain\": 0.10,\n",
    "    \"Chest pain\": 0.05,\n",
    "    \"Difficulty concentrating\": 0.10,\n",
    "    \"Pale, gray, or blue-colored skin, lips, or nail beds, depending on skin tone\": 0.05\n",
    "}\n",
    "\n",
    "# Data for different age groups and symptoms (example, replace with actual data)\n",
    "age_groups_data = {\n",
    "    \"0-10\": {\"prior\": 0.005},\n",
    "    \"10-20\": {\"prior\": 0.01},\n",
    "    \"20-30\": {\"prior\": 0.05},\n",
    "    \"30-40\": {\"prior\": 0.10},\n",
    "    \"40-50\": {\"prior\": 0.15},\n",
    "    \"50-60\": {\"prior\": 0.20},\n",
    "    \"60-70\": {\"prior\": 0.25},\n",
    "    \"70-80\": {\"prior\": 0.30},\n",
    "    \"80+\": {\"prior\": 0.35}\n",
    "}\n",
    "\n",
    "def get_posterior_probability(city, age_group, symptoms):\n",
    "    if city not in city_data:\n",
    "        raise ValueError(\"City not found in database.\")\n",
    "    if age_group not in age_groups_data:\n",
    "        raise ValueError(\"Age group not found in database.\")\n",
    "    \n",
    "    prior = city_data[city]\n",
    "    likelihoods = [symptom_likelihoods[symptom] for symptom in symptoms if symptom in symptom_likelihoods]\n",
    "    marginal_likelihoods = [marginal_symptom_likelihoods[symptom] for symptom in symptoms if symptom in marginal_symptom_likelihoods]\n",
    "    \n",
    "    return calculate_posterior(prior, likelihoods, marginal_likelihoods)\n",
    "\n",
    "# Ask for user input\n",
    "city = input(\"Enter the city you live in: \")\n",
    "age_group = input(\"Enter your age group (0-10, 10-20, 20-30, 30-40, 40-50, 50-60, 60-70, 70-80, 80+): \")\n",
    "symptoms = input(\"Enter your symptoms (comma-separated): \").split(\", \")\n",
    "\n",
    "try:\n",
    "    posterior_probability = get_posterior_probability(city, age_group, symptoms)\n",
    "    print(f\"Posterior probability of having COVID-19 for age group {age_group} in {city} with symptoms {symptoms}: {posterior_probability:.2f}\")\n",
    "except ValueError as e:\n",
    "    print(e)\n"
   ]
  },
  {
   "cell_type": "code",
   "execution_count": 4,
   "id": "8a422f56",
   "metadata": {},
   "outputs": [],
   "source": [
    "a = (\"John\", \"Charles\", \"Mike\")\n",
    "b = (\"Jenny\", \"Christy\", \"Monica\", \"Vicky\")\n",
    "\n",
    "x = zip(a, b)"
   ]
  },
  {
   "cell_type": "code",
   "execution_count": 6,
   "id": "acae92e2",
   "metadata": {},
   "outputs": [
    {
     "data": {
      "text/plain": [
       "[('John', 'Jenny'), ('Charles', 'Christy'), ('Mike', 'Monica')]"
      ]
     },
     "execution_count": 6,
     "metadata": {},
     "output_type": "execute_result"
    }
   ],
   "source": [
    "list(x)"
   ]
  },
  {
   "cell_type": "code",
   "execution_count": null,
   "id": "f2244c1e",
   "metadata": {},
   "outputs": [],
   "source": []
  }
 ],
 "metadata": {
  "kernelspec": {
   "display_name": "Python 3 (ipykernel)",
   "language": "python",
   "name": "python3"
  },
  "language_info": {
   "codemirror_mode": {
    "name": "ipython",
    "version": 3
   },
   "file_extension": ".py",
   "mimetype": "text/x-python",
   "name": "python",
   "nbconvert_exporter": "python",
   "pygments_lexer": "ipython3",
   "version": "3.11.5"
  }
 },
 "nbformat": 4,
 "nbformat_minor": 5
}
