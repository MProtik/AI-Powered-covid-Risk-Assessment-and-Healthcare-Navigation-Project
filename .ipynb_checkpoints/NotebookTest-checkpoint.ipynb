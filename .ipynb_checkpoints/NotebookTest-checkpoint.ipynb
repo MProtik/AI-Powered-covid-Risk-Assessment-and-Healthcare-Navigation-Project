{
 "cells": [
  {
   "cell_type": "code",
   "execution_count": 240,
   "id": "4dd2ff1d",
   "metadata": {},
   "outputs": [
    {
     "name": "stdout",
     "output_type": "stream",
     "text": [
      "13.333333333333334\n",
      "19.333333333333332\n",
      "Posterior probability of having COVID-19 for age 40 in Dhaka with symptoms ('Fever or chills', 'Shortness of breath or difficulty breathing'): 19.83\n"
     ]
    }
   ],
   "source": [
    "def bayesian_update(prior, likelihood, marginal_likelihood):\n",
    "    return (likelihood / marginal_likelihood) + prior\n",
    "\n",
    "def calculate_posterior(prior, likelihoods, marginal_likelihoods):\n",
    "    new = zip(likelihoods, marginal_likelihoods) \n",
    "    percentage = prior\n",
    "    for likelihood, marginal_likelihood in new:\n",
    "        percentage = bayesian_update(percentage, likelihood, marginal_likelihood)\n",
    "        print(percentage)\n",
    "    return percentage\n",
    "\n",
    "city_data = {\n",
    "    \"Dhaka\": 0.10,\n",
    "    \"Chittagong\": 0.03,\n",
    "    \"Khulna\": 0.02,\n",
    "    \"Sylhet\": 0.05,\n",
    "    \"Rajshahi\": 0.03,\n",
    "    \"Barishal\": 0.01,\n",
    "    \"Mymensingh\": 0.02\n",
    "}\n",
    "\n",
    "\n",
    "symptom_likelihoods = {\n",
    "    \"Fever or chills\": 0.2, \n",
    "    \"Cough\": 0.6,\n",
    "    \"Shortness of breath or difficulty breathing\": 0.3,\n",
    "    \"Fatigue\": 0.05,\n",
    "    \"Muscle or body aches\": 0.5,\n",
    "    \"Headache\": 0.104,\n",
    "    \"New loss of taste or smell\": 0.37,  #***\n",
    "    \"Sore throat\": 0.05,\n",
    "    \"Congestion or runny nose\": 0.048,\n",
    "    \"Nausea or vomiting\": 0.10,\n",
    "    \"Diarrhea\": 0.02,\n",
    "    \"Trouble Breathing\": 0.34,\n",
    "    \"Persistent pain or pressure in the chest\": 0.05,\n",
    "    \"Joint pain\": 0.149,\n",
    "    \"Chest pain\": 0.11,\n",
    "    \"Difficulty concentrating\": 0.1,\n",
    "    \"Pale, gray, or blue-colored skin, lips, or nail beds, depending on skin tone\": 0.03\n",
    "}\n",
    "\n",
    "marginal_symptom_likelihoods = {\n",
    "    \"Fever or chills\": 0.015,  #***\n",
    "    \"Cough\": 0.0385, #***\n",
    "    \"Shortness of breath or difficulty breathing\": 0.05, #**\n",
    "    \"Fatigue\": 0.011, #**\n",
    "    \"Muscle or body aches\": 0.2, #**\n",
    "    \"Headache\": 0.01, #**\n",
    "    \"New loss of taste or smell\": 0.04, #***\n",
    "    \"Sore throat\": 0.049, #*\n",
    "    \"Congestion or runny nose\": 0.047, #*\n",
    "    \"Nausea or vomiting\": 0.099,#*\n",
    "    \"Diarrhea\": 0.019, #*\n",
    "    \"Trouble Breathing\": 0.06, #**\n",
    "    \"Persistent pain or pressure in the chest\": 0.0495, #**\n",
    "    \"Joint pain\": 0.0368, #**\n",
    "    \"Chest pain\": 0.048, #**\n",
    "    \"Difficulty concentrating\": 0.099, \n",
    "    \"Pale, gray, or blue-colored skin, lips, or nail beds, depending on skin tone\": 0.0298\n",
    "}\n",
    "\n",
    "# Data for different age groups and symptoms (example, replace with actual data)\n",
    "age_groups_data = {\n",
    "    \"0-10\": 4.90,\n",
    "    \"10-20\": 0.30,\n",
    "    \"20-30\": 0.57,\n",
    "    \"30-40\": 0.40,\n",
    "    \"40-50\": 0.56,\n",
    "    \"50-60\": 0.43,\n",
    "    \"60-70\": 0.32,\n",
    "    \"70-80\": 0.25,\n",
    "    \"80+\": 0.35\n",
    "}\n",
    "\n",
    "def get_posterior_probability(city, age, symptoms):\n",
    "    if age < 0:\n",
    "        raise ValueError(\"Age cannot be negative.\")\n",
    "    \n",
    "    if age <= 10:\n",
    "        age_group = \"0-10\"\n",
    "    elif age <= 20:\n",
    "        age_group = \"10-20\"\n",
    "    elif age <= 30:\n",
    "        age_group = \"20-30\"\n",
    "    elif age <= 40:\n",
    "        age_group = \"30-40\"\n",
    "    elif age <= 50:\n",
    "        age_group = \"40-50\"\n",
    "    elif age <= 60:\n",
    "        age_group = \"50-60\"\n",
    "    elif age <= 70:\n",
    "        age_group = \"60-70\"\n",
    "    elif age <= 80:\n",
    "        age_group = \"70-80\"\n",
    "    else:\n",
    "        age_group = \"80+\"\n",
    "\n",
    "    if city not in city_data:\n",
    "        raise ValueError(\"City not found in database.\")\n",
    "    if age_group not in age_groups_data:\n",
    "        raise ValueError(\"Age group not found in database.\")\n",
    "    \n",
    "    prior = 0\n",
    "    likelihoods = [symptom_likelihoods.get(symptom, 0) for symptom in symptoms]\n",
    "    marginal_likelihoods = [marginal_symptom_likelihoods.get(symptom, 1) for symptom in symptoms]\n",
    "    \n",
    "    return calculate_posterior(prior, likelihoods, marginal_likelihoods)  + age_groups_data[age_group] + city_data[city]\n",
    "\n",
    "if __name__ == \"__main__\":\n",
    "    try:\n",
    "        #city = input(\"Enter the city you live in: \")\n",
    "        city = \"Dhaka\"\n",
    "        #age = int(input(\"Enter your age: \"))\n",
    "        age = 40\n",
    "        #symptoms = input(\"Enter your symptoms (comma-separated): \").split(\", \")\n",
    "        symptoms = \"Fever or chills\", \"Shortness of breath or difficulty breathing\"\n",
    "        posterior_probability = get_posterior_probability(city, age, symptoms)\n",
    "        print(f\"Posterior probability of having COVID-19 for age {age} in {city} with symptoms {symptoms}: {posterior_probability:.2f}\")\n",
    "    except ValueError as e:\n",
    "        print(e)\n",
    "    except Exception as e:\n",
    "        print(f\"An unexpected error occurred: {e}\")\n"
   ]
  },
  {
   "cell_type": "code",
   "execution_count": 241,
   "id": "beb006d8",
   "metadata": {},
   "outputs": [],
   "source": [
    "symptoms = [\"Fever or chills\",\"Cough\",\"Shortness of breath or difficulty breathing\",\"Fatigue\", \"Muscle or body aches\",\"Headache\",\"New loss of taste or smell\",\"Sore throat\",\"Congestion or runny nose\",\"Nausea or vomiting\",\"Diarrhea\",\"Trouble Breathing\",\"Persistent pain or pressure in the chest\",\"Joint pain\", \"Chest pain\",\"Difficulty concentrating\", \"Pale, gray, or blue-colored skin, lips, or nail beds, depending on skin tone\"]"
   ]
  },
  {
   "cell_type": "code",
   "execution_count": 242,
   "id": "19e27d4b",
   "metadata": {},
   "outputs": [],
   "source": [
    "likelihoods = [symptom_likelihoods.get(symptom, 0) for symptom in symptoms]\n",
    "marginal_likelihoods = [marginal_symptom_likelihoods.get(symptom, 1) for symptom in symptoms]"
   ]
  },
  {
   "cell_type": "code",
   "execution_count": 243,
   "id": "201cd9fa",
   "metadata": {
    "scrolled": true
   },
   "outputs": [
    {
     "name": "stdout",
     "output_type": "stream",
     "text": [
      "13.333333333333334\n",
      "28.917748917748916\n",
      "34.917748917748916\n",
      "39.46320346320346\n",
      "41.96320346320346\n",
      "52.36320346320346\n",
      "61.61320346320346\n",
      "62.63361162646877\n",
      "63.65488822221345\n",
      "64.66498923231445\n",
      "65.71762081126182\n",
      "71.3842874779285\n",
      "72.3943884880295\n",
      "76.44330153150777\n",
      "78.73496819817444\n",
      "79.74506920827545\n",
      "80.75178061767143\n"
     ]
    },
    {
     "data": {
      "text/plain": [
       "80.75178061767143"
      ]
     },
     "execution_count": 243,
     "metadata": {},
     "output_type": "execute_result"
    }
   ],
   "source": [
    "calculate_posterior(prior, likelihoods, marginal_likelihoods)"
   ]
  },
  {
   "cell_type": "code",
   "execution_count": 212,
   "id": "f90f3e25",
   "metadata": {},
   "outputs": [],
   "source": [
    "def calculate_posterior(prior, likelihoods, marginal_likelihoods):\n",
    "    new = zip(likelihoods, marginal_likelihoods) \n",
    "    percentage = prior\n",
    "    for likelihood, marginal_likelihood in new:\n",
    "        percentage = bayesian_update(percentage, likelihood, marginal_likelihood)\n",
    "        print(percentage)\n",
    "    return percentage"
   ]
  },
  {
   "cell_type": "code",
   "execution_count": 147,
   "id": "d1c9e573",
   "metadata": {},
   "outputs": [],
   "source": [
    "def bayesian_update(prior, likelihood, marginal_likelihood):\n",
    "    return (likelihood * prior) / marginal_likelihood"
   ]
  },
  {
   "cell_type": "code",
   "execution_count": 218,
   "id": "a2e44c24",
   "metadata": {},
   "outputs": [
    {
     "name": "stdout",
     "output_type": "stream",
     "text": [
      "13.333333333333334\n",
      "33.333333333333336\n",
      "43.333333333333336\n",
      "47.87878787878788\n",
      "50.37878787878788\n",
      "60.77878787878788\n",
      "62.72615629984051\n",
      "63.74656446310582\n",
      "64.76784105885051\n",
      "65.77794206895152\n",
      "66.83057364789889\n",
      "67.88771650504175\n",
      "68.89781751514276\n",
      "69.91836546034824\n",
      "70.94640284352582\n",
      "71.95650385362683\n",
      "72.9632152630228\n"
     ]
    },
    {
     "data": {
      "text/plain": [
       "72.9632152630228"
      ]
     },
     "execution_count": 218,
     "metadata": {},
     "output_type": "execute_result"
    }
   ],
   "source": [
    "prior = 0\n",
    "calculate_posterior(prior, likelihoods, marginal_likelihoods)"
   ]
  },
  {
   "cell_type": "code",
   "execution_count": null,
   "id": "130aa82d",
   "metadata": {},
   "outputs": [],
   "source": []
  },
  {
   "cell_type": "code",
   "execution_count": null,
   "id": "515d59c7",
   "metadata": {},
   "outputs": [],
   "source": []
  }
 ],
 "metadata": {
  "kernelspec": {
   "display_name": "Python 3 (ipykernel)",
   "language": "python",
   "name": "python3"
  },
  "language_info": {
   "codemirror_mode": {
    "name": "ipython",
    "version": 3
   },
   "file_extension": ".py",
   "mimetype": "text/x-python",
   "name": "python",
   "nbconvert_exporter": "python",
   "pygments_lexer": "ipython3",
   "version": "3.11.5"
  }
 },
 "nbformat": 4,
 "nbformat_minor": 5
}
